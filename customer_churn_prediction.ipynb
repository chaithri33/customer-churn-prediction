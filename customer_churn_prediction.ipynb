{
  "nbformat": 4,
  "nbformat_minor": 0,
  "metadata": {
    "colab": {
      "provenance": []
    },
    "kernelspec": {
      "name": "python3",
      "display_name": "Python 3"
    },
    "language_info": {
      "name": "python"
    }
  },
  "cells": [
    {
      "cell_type": "code",
      "execution_count": 1,
      "metadata": {
        "colab": {
          "base_uri": "https://localhost:8080/"
        },
        "id": "xPuJzGsJae0l",
        "outputId": "0db4bd77-64ef-45ec-f430-38fb0b10cea1"
      },
      "outputs": [
        {
          "output_type": "stream",
          "name": "stdout",
          "text": [
            "   customerID  gender  SeniorCitizen Partner Dependents  tenure PhoneService  \\\n",
            "0  7590-VHVEG  Female              0     Yes         No       1           No   \n",
            "1  5575-GNVDE    Male              0      No         No      34          Yes   \n",
            "2  3668-QPYBK    Male              0      No         No       2          Yes   \n",
            "3  7795-CFOCW    Male              0      No         No      45           No   \n",
            "4  9237-HQITU  Female              0      No         No       2          Yes   \n",
            "\n",
            "      MultipleLines InternetService OnlineSecurity  ... DeviceProtection  \\\n",
            "0  No phone service             DSL             No  ...               No   \n",
            "1                No             DSL            Yes  ...              Yes   \n",
            "2                No             DSL            Yes  ...               No   \n",
            "3  No phone service             DSL            Yes  ...              Yes   \n",
            "4                No     Fiber optic             No  ...               No   \n",
            "\n",
            "  TechSupport StreamingTV StreamingMovies        Contract PaperlessBilling  \\\n",
            "0          No          No              No  Month-to-month              Yes   \n",
            "1          No          No              No        One year               No   \n",
            "2          No          No              No  Month-to-month              Yes   \n",
            "3         Yes          No              No        One year               No   \n",
            "4          No          No              No  Month-to-month              Yes   \n",
            "\n",
            "               PaymentMethod MonthlyCharges  TotalCharges Churn  \n",
            "0           Electronic check          29.85         29.85    No  \n",
            "1               Mailed check          56.95        1889.5    No  \n",
            "2               Mailed check          53.85        108.15   Yes  \n",
            "3  Bank transfer (automatic)          42.30       1840.75    No  \n",
            "4           Electronic check          70.70        151.65   Yes  \n",
            "\n",
            "[5 rows x 21 columns]\n",
            "<class 'pandas.core.frame.DataFrame'>\n",
            "RangeIndex: 7043 entries, 0 to 7042\n",
            "Data columns (total 21 columns):\n",
            " #   Column            Non-Null Count  Dtype  \n",
            "---  ------            --------------  -----  \n",
            " 0   customerID        7043 non-null   object \n",
            " 1   gender            7043 non-null   object \n",
            " 2   SeniorCitizen     7043 non-null   int64  \n",
            " 3   Partner           7043 non-null   object \n",
            " 4   Dependents        7043 non-null   object \n",
            " 5   tenure            7043 non-null   int64  \n",
            " 6   PhoneService      7043 non-null   object \n",
            " 7   MultipleLines     7043 non-null   object \n",
            " 8   InternetService   7043 non-null   object \n",
            " 9   OnlineSecurity    7043 non-null   object \n",
            " 10  OnlineBackup      7043 non-null   object \n",
            " 11  DeviceProtection  7043 non-null   object \n",
            " 12  TechSupport       7043 non-null   object \n",
            " 13  StreamingTV       7043 non-null   object \n",
            " 14  StreamingMovies   7043 non-null   object \n",
            " 15  Contract          7043 non-null   object \n",
            " 16  PaperlessBilling  7043 non-null   object \n",
            " 17  PaymentMethod     7043 non-null   object \n",
            " 18  MonthlyCharges    7043 non-null   float64\n",
            " 19  TotalCharges      7043 non-null   object \n",
            " 20  Churn             7043 non-null   object \n",
            "dtypes: float64(1), int64(2), object(18)\n",
            "memory usage: 1.1+ MB\n",
            "None\n",
            "customerID          0\n",
            "gender              0\n",
            "SeniorCitizen       0\n",
            "Partner             0\n",
            "Dependents          0\n",
            "tenure              0\n",
            "PhoneService        0\n",
            "MultipleLines       0\n",
            "InternetService     0\n",
            "OnlineSecurity      0\n",
            "OnlineBackup        0\n",
            "DeviceProtection    0\n",
            "TechSupport         0\n",
            "StreamingTV         0\n",
            "StreamingMovies     0\n",
            "Contract            0\n",
            "PaperlessBilling    0\n",
            "PaymentMethod       0\n",
            "MonthlyCharges      0\n",
            "TotalCharges        0\n",
            "Churn               0\n",
            "dtype: int64\n"
          ]
        }
      ],
      "source": [
        "import pandas as pd\n",
        "\n",
        "df = pd.read_csv('Telco-Customer-Churn.csv')\n",
        "\n",
        "print(df.head())\n",
        "\n",
        "print(df.info())\n",
        "\n",
        "print(df.isnull().sum())"
      ]
    },
    {
      "cell_type": "code",
      "source": [
        "import matplotlib.pyplot as plt\n",
        "import seaborn as sns\n",
        "\n",
        "# Check how many customers churned vs stayed\n",
        "print(df['Churn'].value_counts())\n",
        "\n",
        "# Plot churn distribution\n",
        "sns.countplot(data=df, x='Churn')\n",
        "plt.title('Customer Churn Distribution')\n",
        "plt.show()\n",
        "\n",
        "# Visualize churn by Contract type\n",
        "sns.countplot(data=df, x='Contract', hue='Churn')\n",
        "plt.title('Churn by Contract Type')\n",
        "plt.show()\n",
        "\n",
        "# Visualize Monthly Charges by churn status\n",
        "sns.boxplot(data=df, x='Churn', y='MonthlyCharges')\n",
        "plt.title('Monthly Charges vs Churn')\n",
        "plt.show()\n"
      ],
      "metadata": {
        "colab": {
          "base_uri": "https://localhost:8080/",
          "height": 1000
        },
        "id": "n8PvUMSmbmT1",
        "outputId": "aaabe856-7802-41cc-a37b-c7a5a014f99c"
      },
      "execution_count": 2,
      "outputs": [
        {
          "output_type": "stream",
          "name": "stdout",
          "text": [
            "Churn\n",
            "No     5174\n",
            "Yes    1869\n",
            "Name: count, dtype: int64\n"
          ]
        },
        {
          "output_type": "display_data",
          "data": {
            "text/plain": [
              "<Figure size 640x480 with 1 Axes>"
            ],
            "image/png": "[encoded data removed]"
          },
          "metadata": {}
        },
        {
          "output_type": "display_data",
          "data": {
            "text/plain": [
              "<Figure size 640x480 with 1 Axes>"
            ],
            "image/png": "[encoded data removed]"
          },
          "metadata": {}
        },
        {
          "output_type": "display_data",
          "data": {
            "text/plain": [
              "<Figure size 640x480 with 1 Axes>"
            ],
            "image/png": "[encoded data removed]"
          },
          "metadata": {}
        }
      ]
    },
    {
      "cell_type": "code",
      "source": [
        "# Check for blanks or unusual values\n",
        "print(df.isnull().sum())\n",
        "\n",
        "# Look at unique values for TotalCharges (this column often has blanks stored as spaces!)\n",
        "print(df['TotalCharges'].unique()[:20])\n",
        "\n",
        "# Get data types\n",
        "print(df.dtypes)\n"
      ],
      "metadata": {
        "colab": {
          "base_uri": "https://localhost:8080/"
        },
        "id": "zPpl6A45bmMh",
        "outputId": "09d8912f-fca7-4091-b291-9b0812fcea70"
      },
      "execution_count": 3,
      "outputs": [
        {
          "output_type": "stream",
          "name": "stdout",
          "text": [
            "customerID          0\n",
            "gender              0\n",
            "SeniorCitizen       0\n",
            "Partner             0\n",
            "Dependents          0\n",
            "tenure              0\n",
            "PhoneService        0\n",
            "MultipleLines       0\n",
            "InternetService     0\n",
            "OnlineSecurity      0\n",
            "OnlineBackup        0\n",
            "DeviceProtection    0\n",
            "TechSupport         0\n",
            "StreamingTV         0\n",
            "StreamingMovies     0\n",
            "Contract            0\n",
            "PaperlessBilling    0\n",
            "PaymentMethod       0\n",
            "MonthlyCharges      0\n",
            "TotalCharges        0\n",
            "Churn               0\n",
            "dtype: int64\n",
            "['29.85' '1889.5' '108.15' '1840.75' '151.65' '820.5' '1949.4' '301.9'\n",
            " '3046.05' '3487.95' '587.45' '326.8' '5681.1' '5036.3' '2686.05'\n",
            " '7895.15' '1022.95' '7382.25' '528.35' '1862.9']\n",
            "customerID           object\n",
            "gender               object\n",
            "SeniorCitizen         int64\n",
            "Partner              object\n",
            "Dependents           object\n",
            "tenure                int64\n",
            "PhoneService         object\n",
            "MultipleLines        object\n",
            "InternetService      object\n",
            "OnlineSecurity       object\n",
            "OnlineBackup         object\n",
            "DeviceProtection     object\n",
            "TechSupport          object\n",
            "StreamingTV          object\n",
            "StreamingMovies      object\n",
            "Contract             object\n",
            "PaperlessBilling     object\n",
            "PaymentMethod        object\n",
            "MonthlyCharges      float64\n",
            "TotalCharges         object\n",
            "Churn                object\n",
            "dtype: object\n"
          ]
        }
      ]
    },
    {
      "cell_type": "code",
      "source": [
        "# Convert spaces to NaN\n",
        "df['TotalCharges'] = df['TotalCharges'].replace(\" \", pd.NA)\n",
        "\n",
        "# Convert to numeric\n",
        "df['TotalCharges'] = pd.to_numeric(df['TotalCharges'])\n",
        "\n",
        "# Now check how many missing:\n",
        "print(df['TotalCharges'].isnull().sum())\n"
      ],
      "metadata": {
        "colab": {
          "base_uri": "https://localhost:8080/"
        },
        "id": "ejeGss5jdVDJ",
        "outputId": "da05dc74-e277-45d7-d86e-435daaf0d255"
      },
      "execution_count": 6,
      "outputs": [
        {
          "output_type": "stream",
          "name": "stdout",
          "text": [
            "11\n"
          ]
        }
      ]
    },
    {
      "cell_type": "code",
      "source": [
        "import pandas as pd\n",
        "\n",
        "# Reload your CSV\n",
        "df = pd.read_csv('Telco-Customer-Churn.csv')\n",
        "\n",
        "print(df.head())  # check first few rows again\n"
      ],
      "metadata": {
        "colab": {
          "base_uri": "https://localhost:8080/"
        },
        "id": "PmbvhFuhg-sP",
        "outputId": "bf695094-355c-494b-a32d-e2f18e339034"
      },
      "execution_count": 20,
      "outputs": [
        {
          "output_type": "stream",
          "name": "stdout",
          "text": [
            "   customerID  gender  SeniorCitizen Partner Dependents  tenure PhoneService  \\\n",
            "0  7590-VHVEG  Female              0     Yes         No       1           No   \n",
            "1  5575-GNVDE    Male              0      No         No      34          Yes   \n",
            "2  3668-QPYBK    Male              0      No         No       2          Yes   \n",
            "3  7795-CFOCW    Male              0      No         No      45           No   \n",
            "4  9237-HQITU  Female              0      No         No       2          Yes   \n",
            "\n",
            "      MultipleLines InternetService OnlineSecurity  ... DeviceProtection  \\\n",
            "0  No phone service             DSL             No  ...               No   \n",
            "1                No             DSL            Yes  ...              Yes   \n",
            "2                No             DSL            Yes  ...               No   \n",
            "3  No phone service             DSL            Yes  ...              Yes   \n",
            "4                No     Fiber optic             No  ...               No   \n",
            "\n",
            "  TechSupport StreamingTV StreamingMovies        Contract PaperlessBilling  \\\n",
            "0          No          No              No  Month-to-month              Yes   \n",
            "1          No          No              No        One year               No   \n",
            "2          No          No              No  Month-to-month              Yes   \n",
            "3         Yes          No              No        One year               No   \n",
            "4          No          No              No  Month-to-month              Yes   \n",
            "\n",
            "               PaymentMethod MonthlyCharges  TotalCharges Churn  \n",
            "0           Electronic check          29.85         29.85    No  \n",
            "1               Mailed check          56.95        1889.5    No  \n",
            "2               Mailed check          53.85        108.15   Yes  \n",
            "3  Bank transfer (automatic)          42.30       1840.75    No  \n",
            "4           Electronic check          70.70        151.65   Yes  \n",
            "\n",
            "[5 rows x 21 columns]\n"
          ]
        }
      ]
    },
    {
      "cell_type": "code",
      "source": [
        "# Replace blank spaces with NaN\n",
        "df['TotalCharges'] = df['TotalCharges'].replace(\" \", pd.NA)\n",
        "\n",
        "# Convert to numeric\n",
        "df['TotalCharges'] = pd.to_numeric(df['TotalCharges'])\n",
        "\n",
        "# Drop rows with missing TotalCharges\n",
        "df = df.dropna()\n",
        "\n",
        "print(df.shape)  # confirm rows dropped\n"
      ],
      "metadata": {
        "colab": {
          "base_uri": "https://localhost:8080/"
        },
        "id": "pRwJzV0FmJAK",
        "outputId": "5c08b54d-2aa2-45b5-d89b-263af2aaaf87"
      },
      "execution_count": 21,
      "outputs": [
        {
          "output_type": "stream",
          "name": "stdout",
          "text": [
            "(7032, 21)\n"
          ]
        }
      ]
    },
    {
      "cell_type": "code",
      "source": [
        "df = df.drop('customerID', axis=1)\n"
      ],
      "metadata": {
        "id": "fgwQHKkHmI8h"
      },
      "execution_count": 22,
      "outputs": []
    },
    {
      "cell_type": "code",
      "source": [
        "# Remove spaces\n",
        "df['Churn'] = df['Churn'].str.strip()\n",
        "\n",
        "# Now map Yes/No to 1/0\n",
        "df['Churn'] = df['Churn'].map({'Yes': 1, 'No': 0})\n",
        "\n",
        "# Confirm\n",
        "print(df['Churn'].value_counts())\n"
      ],
      "metadata": {
        "colab": {
          "base_uri": "https://localhost:8080/"
        },
        "id": "LSoSJR8FmRF7",
        "outputId": "b5b625ec-8479-4c1a-9354-99be493a0f46"
      },
      "execution_count": 23,
      "outputs": [
        {
          "output_type": "stream",
          "name": "stdout",
          "text": [
            "Churn\n",
            "0    5163\n",
            "1    1869\n",
            "Name: count, dtype: int64\n"
          ]
        }
      ]
    },
    {
      "cell_type": "code",
      "source": [
        "X = df.drop('Churn', axis=1)\n",
        "y = df['Churn']\n",
        "\n",
        "print(X.head())\n",
        "print(y.head())\n"
      ],
      "metadata": {
        "colab": {
          "base_uri": "https://localhost:8080/"
        },
        "id": "lbtq4QTWmRDF",
        "outputId": "c9a4f3ad-ba59-469a-870c-95af4de89365"
      },
      "execution_count": 24,
      "outputs": [
        {
          "output_type": "stream",
          "name": "stdout",
          "text": [
            "   gender  SeniorCitizen Partner Dependents  tenure PhoneService  \\\n",
            "0  Female              0     Yes         No       1           No   \n",
            "1    Male              0      No         No      34          Yes   \n",
            "2    Male              0      No         No       2          Yes   \n",
            "3    Male              0      No         No      45           No   \n",
            "4  Female              0      No         No       2          Yes   \n",
            "\n",
            "      MultipleLines InternetService OnlineSecurity OnlineBackup  \\\n",
            "0  No phone service             DSL             No          Yes   \n",
            "1                No             DSL            Yes           No   \n",
            "2                No             DSL            Yes          Yes   \n",
            "3  No phone service             DSL            Yes           No   \n",
            "4                No     Fiber optic             No           No   \n",
            "\n",
            "  DeviceProtection TechSupport StreamingTV StreamingMovies        Contract  \\\n",
            "0               No          No          No              No  Month-to-month   \n",
            "1              Yes          No          No              No        One year   \n",
            "2               No          No          No              No  Month-to-month   \n",
            "3              Yes         Yes          No              No        One year   \n",
            "4               No          No          No              No  Month-to-month   \n",
            "\n",
            "  PaperlessBilling              PaymentMethod  MonthlyCharges  TotalCharges  \n",
            "0              Yes           Electronic check           29.85         29.85  \n",
            "1               No               Mailed check           56.95       1889.50  \n",
            "2              Yes               Mailed check           53.85        108.15  \n",
            "3               No  Bank transfer (automatic)           42.30       1840.75  \n",
            "4              Yes           Electronic check           70.70        151.65  \n",
            "0    0\n",
            "1    0\n",
            "2    1\n",
            "3    0\n",
            "4    1\n",
            "Name: Churn, dtype: int64\n"
          ]
        }
      ]
    },
    {
      "cell_type": "code",
      "source": [
        "from sklearn.model_selection import train_test_split\n",
        "\n",
        "# Split the data: 80% train, 20% test\n",
        "X_train, X_test, y_train, y_test = train_test_split(\n",
        "    X, y,\n",
        "    test_size=0.2,\n",
        "    random_state=42,\n",
        "    stratify=y  # keeps the churn ratio similar in both sets\n",
        ")\n",
        "\n",
        "print(X_train.shape)\n",
        "print(X_test.shape)\n",
        "print(y_train.value_counts())\n",
        "print(y_test.value_counts())\n"
      ],
      "metadata": {
        "colab": {
          "base_uri": "https://localhost:8080/"
        },
        "id": "9m4uw1-qmbhd",
        "outputId": "e16fce9e-8d3e-4e60-a847-18ae5964d8c0"
      },
      "execution_count": 25,
      "outputs": [
        {
          "output_type": "stream",
          "name": "stdout",
          "text": [
            "(5625, 19)\n",
            "(1407, 19)\n",
            "Churn\n",
            "0    4130\n",
            "1    1495\n",
            "Name: count, dtype: int64\n",
            "Churn\n",
            "0    1033\n",
            "1     374\n",
            "Name: count, dtype: int64\n"
          ]
        }
      ]
    },
    {
      "cell_type": "code",
      "source": [
        "print(X.dtypes)  # See which columns are object/string type\n"
      ],
      "metadata": {
        "colab": {
          "base_uri": "https://localhost:8080/"
        },
        "id": "9RgLQPE0mben",
        "outputId": "2bdfd316-8c53-42b2-a342-36ffb9d857da"
      },
      "execution_count": 26,
      "outputs": [
        {
          "output_type": "stream",
          "name": "stdout",
          "text": [
            "gender               object\n",
            "SeniorCitizen         int64\n",
            "Partner              object\n",
            "Dependents           object\n",
            "tenure                int64\n",
            "PhoneService         object\n",
            "MultipleLines        object\n",
            "InternetService      object\n",
            "OnlineSecurity       object\n",
            "OnlineBackup         object\n",
            "DeviceProtection     object\n",
            "TechSupport          object\n",
            "StreamingTV          object\n",
            "StreamingMovies      object\n",
            "Contract             object\n",
            "PaperlessBilling     object\n",
            "PaymentMethod        object\n",
            "MonthlyCharges      float64\n",
            "TotalCharges        float64\n",
            "dtype: object\n"
          ]
        }
      ]
    },
    {
      "cell_type": "code",
      "source": [
        "binary_cols = ['Partner', 'Dependents', 'PhoneService',\n",
        "               'PaperlessBilling', 'OnlineSecurity', 'OnlineBackup',\n",
        "               'DeviceProtection', 'TechSupport', 'StreamingTV', 'StreamingMovies']\n",
        "\n",
        "for col in binary_cols:\n",
        "    X[col] = X[col].map({'Yes': 1, 'No': 0, 'No phone service': 0})\n"
      ],
      "metadata": {
        "id": "LSgvQmf4n7Hw"
      },
      "execution_count": 27,
      "outputs": []
    },
    {
      "cell_type": "code",
      "source": [
        "X = pd.get_dummies(X, drop_first=True)\n"
      ],
      "metadata": {
        "id": "Li8vCLWQn7BD"
      },
      "execution_count": 28,
      "outputs": []
    },
    {
      "cell_type": "code",
      "source": [
        "print(X.head())\n",
        "print(X.shape)\n"
      ],
      "metadata": {
        "colab": {
          "base_uri": "https://localhost:8080/"
        },
        "id": "CQj8XOObn66L",
        "outputId": "3b99af88-067f-4ee3-c9f9-fb3ae78ccec9"
      },
      "execution_count": 29,
      "outputs": [
        {
          "output_type": "stream",
          "name": "stdout",
          "text": [
            "   SeniorCitizen  Partner  Dependents  tenure  PhoneService  OnlineSecurity  \\\n",
            "0              0        1           0       1             0             0.0   \n",
            "1              0        0           0      34             1             1.0   \n",
            "2              0        0           0       2             1             1.0   \n",
            "3              0        0           0      45             0             1.0   \n",
            "4              0        0           0       2             1             0.0   \n",
            "\n",
            "   OnlineBackup  DeviceProtection  TechSupport  StreamingTV  ...  gender_Male  \\\n",
            "0           1.0               0.0          0.0          0.0  ...        False   \n",
            "1           0.0               1.0          0.0          0.0  ...         True   \n",
            "2           1.0               0.0          0.0          0.0  ...         True   \n",
            "3           0.0               1.0          1.0          0.0  ...         True   \n",
            "4           0.0               0.0          0.0          0.0  ...        False   \n",
            "\n",
            "   MultipleLines_No phone service  MultipleLines_Yes  \\\n",
            "0                            True              False   \n",
            "1                           False              False   \n",
            "2                           False              False   \n",
            "3                            True              False   \n",
            "4                           False              False   \n",
            "\n",
            "   InternetService_Fiber optic  InternetService_No  Contract_One year  \\\n",
            "0                        False               False              False   \n",
            "1                        False               False               True   \n",
            "2                        False               False              False   \n",
            "3                        False               False               True   \n",
            "4                         True               False              False   \n",
            "\n",
            "   Contract_Two year  PaymentMethod_Credit card (automatic)  \\\n",
            "0              False                                  False   \n",
            "1              False                                  False   \n",
            "2              False                                  False   \n",
            "3              False                                  False   \n",
            "4              False                                  False   \n",
            "\n",
            "   PaymentMethod_Electronic check  PaymentMethod_Mailed check  \n",
            "0                            True                       False  \n",
            "1                           False                        True  \n",
            "2                           False                        True  \n",
            "3                           False                       False  \n",
            "4                            True                       False  \n",
            "\n",
            "[5 rows x 24 columns]\n",
            "(7032, 24)\n"
          ]
        }
      ]
    },
    {
      "cell_type": "code",
      "source": [
        "print(X.isnull().sum())\n",
        "\n"
      ],
      "metadata": {
        "colab": {
          "base_uri": "https://localhost:8080/"
        },
        "id": "RgxQbCABoUtk",
        "outputId": "8d15d415-b8df-464c-8c76-80dc31134f6f"
      },
      "execution_count": 31,
      "outputs": [
        {
          "output_type": "stream",
          "name": "stdout",
          "text": [
            "SeniorCitizen                               0\n",
            "Partner                                     0\n",
            "Dependents                                  0\n",
            "tenure                                      0\n",
            "PhoneService                                0\n",
            "OnlineSecurity                           1520\n",
            "OnlineBackup                             1520\n",
            "DeviceProtection                         1520\n",
            "TechSupport                              1520\n",
            "StreamingTV                              1520\n",
            "StreamingMovies                          1520\n",
            "PaperlessBilling                            0\n",
            "MonthlyCharges                              0\n",
            "TotalCharges                                0\n",
            "gender_Male                                 0\n",
            "MultipleLines_No phone service              0\n",
            "MultipleLines_Yes                           0\n",
            "InternetService_Fiber optic                 0\n",
            "InternetService_No                          0\n",
            "Contract_One year                           0\n",
            "Contract_Two year                           0\n",
            "PaymentMethod_Credit card (automatic)       0\n",
            "PaymentMethod_Electronic check              0\n",
            "PaymentMethod_Mailed check                  0\n",
            "dtype: int64\n"
          ]
        }
      ]
    },
    {
      "cell_type": "code",
      "source": [
        "X = X.fillna(0)\n"
      ],
      "metadata": {
        "id": "DrV5xM-qoUqD"
      },
      "execution_count": 32,
      "outputs": []
    },
    {
      "cell_type": "code",
      "source": [
        "X = X.astype(int)\n",
        "print(X.head())\n"
      ],
      "metadata": {
        "colab": {
          "base_uri": "https://localhost:8080/"
        },
        "id": "CU8lntaAoUmJ",
        "outputId": "8730d4ea-6ef8-4e89-c184-b99e4c90644f"
      },
      "execution_count": 33,
      "outputs": [
        {
          "output_type": "stream",
          "name": "stdout",
          "text": [
            "   SeniorCitizen  Partner  Dependents  tenure  PhoneService  OnlineSecurity  \\\n",
            "0              0        1           0       1             0               0   \n",
            "1              0        0           0      34             1               1   \n",
            "2              0        0           0       2             1               1   \n",
            "3              0        0           0      45             0               1   \n",
            "4              0        0           0       2             1               0   \n",
            "\n",
            "   OnlineBackup  DeviceProtection  TechSupport  StreamingTV  ...  gender_Male  \\\n",
            "0             1                 0            0            0  ...            0   \n",
            "1             0                 1            0            0  ...            1   \n",
            "2             1                 0            0            0  ...            1   \n",
            "3             0                 1            1            0  ...            1   \n",
            "4             0                 0            0            0  ...            0   \n",
            "\n",
            "   MultipleLines_No phone service  MultipleLines_Yes  \\\n",
            "0                               1                  0   \n",
            "1                               0                  0   \n",
            "2                               0                  0   \n",
            "3                               1                  0   \n",
            "4                               0                  0   \n",
            "\n",
            "   InternetService_Fiber optic  InternetService_No  Contract_One year  \\\n",
            "0                            0                   0                  0   \n",
            "1                            0                   0                  1   \n",
            "2                            0                   0                  0   \n",
            "3                            0                   0                  1   \n",
            "4                            1                   0                  0   \n",
            "\n",
            "   Contract_Two year  PaymentMethod_Credit card (automatic)  \\\n",
            "0                  0                                      0   \n",
            "1                  0                                      0   \n",
            "2                  0                                      0   \n",
            "3                  0                                      0   \n",
            "4                  0                                      0   \n",
            "\n",
            "   PaymentMethod_Electronic check  PaymentMethod_Mailed check  \n",
            "0                               1                           0  \n",
            "1                               0                           1  \n",
            "2                               0                           1  \n",
            "3                               0                           0  \n",
            "4                               1                           0  \n",
            "\n",
            "[5 rows x 24 columns]\n"
          ]
        }
      ]
    },
    {
      "cell_type": "code",
      "source": [
        "from sklearn.preprocessing import StandardScaler\n",
        "\n",
        "# Columns to scale\n",
        "num_cols = ['tenure', 'MonthlyCharges', 'TotalCharges']\n",
        "\n",
        "scaler = StandardScaler()\n",
        "\n",
        "X[num_cols] = scaler.fit_transform(X[num_cols])\n"
      ],
      "metadata": {
        "id": "i0em9_n_pBNA"
      },
      "execution_count": 34,
      "outputs": []
    },
    {
      "cell_type": "code",
      "source": [
        "from sklearn.model_selection import train_test_split\n",
        "\n",
        "X_train, X_test, y_train, y_test = train_test_split(\n",
        "    X, y, test_size=0.2, random_state=42, stratify=y)\n"
      ],
      "metadata": {
        "id": "K9GZvPBSpBH_"
      },
      "execution_count": 36,
      "outputs": []
    },
    {
      "cell_type": "code",
      "source": [
        "from sklearn.ensemble import RandomForestClassifier\n",
        "from sklearn.metrics import classification_report, confusion_matrix, roc_auc_score\n",
        "\n",
        "rf = RandomForestClassifier(random_state=42)\n",
        "rf.fit(X_train, y_train)\n",
        "\n",
        "# Predictions\n",
        "y_pred = rf.predict(X_test)\n",
        "y_prob = rf.predict_proba(X_test)[:,1]\n",
        "\n",
        "# Evaluation\n",
        "print(\"Classification Report:\\n\", classification_report(y_test, y_pred))\n",
        "print(\"Confusion Matrix:\\n\", confusion_matrix(y_test, y_pred))\n",
        "print(\"ROC AUC Score:\", roc_auc_score(y_test, y_prob))\n"
      ],
      "metadata": {
        "colab": {
          "base_uri": "https://localhost:8080/"
        },
        "id": "WyyVMXQ9p0Mi",
        "outputId": "f43ed438-ec48-4667-a6d9-76483ccc7ae1"
      },
      "execution_count": 37,
      "outputs": [
        {
          "output_type": "stream",
          "name": "stdout",
          "text": [
            "Classification Report:\n",
            "               precision    recall  f1-score   support\n",
            "\n",
            "           0       0.83      0.90      0.86      1033\n",
            "           1       0.63      0.49      0.55       374\n",
            "\n",
            "    accuracy                           0.79      1407\n",
            "   macro avg       0.73      0.69      0.71      1407\n",
            "weighted avg       0.78      0.79      0.78      1407\n",
            "\n",
            "Confusion Matrix:\n",
            " [[927 106]\n",
            " [192 182]]\n",
            "ROC AUC Score: 0.8146253837273711\n"
          ]
        }
      ]
    },
    {
      "cell_type": "code",
      "source": [
        "import joblib\n",
        "\n",
        "# Save your model\n",
        "joblib.dump(rf, 'churn_model.pkl')\n",
        "\n",
        "# Save your scaler too\n",
        "joblib.dump(scaler, 'scaler.pkl')\n"
      ],
      "metadata": {
        "colab": {
          "base_uri": "https://localhost:8080/"
        },
        "id": "K3a-idjIqyvD",
        "outputId": "4b3baac8-4074-4b76-aa20-83ba714f6f26"
      },
      "execution_count": 39,
      "outputs": [
        {
          "output_type": "execute_result",
          "data": {
            "text/plain": [
              "['scaler.pkl']"
            ]
          },
          "metadata": {},
          "execution_count": 39
        }
      ]
    },
    {
      "cell_type": "code",
      "source": [
        "print(X.columns.tolist())\n"
      ],
      "metadata": {
        "colab": {
          "base_uri": "https://localhost:8080/"
        },
        "id": "VdYlBALls8BY",
        "outputId": "ce755e56-8d01-4894-ccf4-7cca7499d115"
      },
      "execution_count": 41,
      "outputs": [
        {
          "output_type": "stream",
          "name": "stdout",
          "text": [
            "['SeniorCitizen', 'Partner', 'Dependents', 'tenure', 'PhoneService', 'OnlineSecurity', 'OnlineBackup', 'DeviceProtection', 'TechSupport', 'StreamingTV', 'StreamingMovies', 'PaperlessBilling', 'MonthlyCharges', 'TotalCharges', 'gender_Male', 'MultipleLines_No phone service', 'MultipleLines_Yes', 'InternetService_Fiber optic', 'InternetService_No', 'Contract_One year', 'Contract_Two year', 'PaymentMethod_Credit card (automatic)', 'PaymentMethod_Electronic check', 'PaymentMethod_Mailed check']\n"
          ]
        }
      ]
    }
  ]
}